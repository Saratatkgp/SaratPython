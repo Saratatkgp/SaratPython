{
 "cells": [
  {
   "cell_type": "markdown",
   "metadata": {},
   "source": [
    "Assignment 1"
   ]
  },
  {
   "cell_type": "markdown",
   "metadata": {},
   "source": [
    "#Task 1\n",
    "\n",
    "2. Write a program which will find all such numbers which are divisible by 7 but are not a multiple\n",
    "   of 5, between 2000 and 3200 (both included). The numbers obtained should be printed in a\n",
    "   comma-separated sequence on a single line.\n",
    "   "
   ]
  },
  {
   "cell_type": "code",
   "execution_count": 13,
   "metadata": {},
   "outputs": [
    {
     "name": "stdout",
     "output_type": "stream",
     "text": [
      "[2016, 2051, 2086, 2121, 2156, 2191, 2226, 2261, 2296, 2331, 2366, 2401, 2436, 2471, 2506, 2541, 2576, 2611, 2646, 2681, 2716, 2751, 2786, 2821, 2856, 2891, 2926, 2961, 2996, 3031, 3066, 3101, 3136, 3171]\n"
     ]
    }
   ],
   "source": [
    "list=[]\n",
    "for i in range(2000,3201):\n",
    "    if i%7==0:\n",
    "        if i%5==1:\n",
    "            list.append(i)\n",
    "print(list)"
   ]
  },
  {
   "cell_type": "markdown",
   "metadata": {},
   "source": [
    "3. Write a Python program to accept the user's first and last name and then getting them printed in\n",
    "   the the reverse order with a space between first name and last name."
   ]
  },
  {
   "cell_type": "code",
   "execution_count": 18,
   "metadata": {},
   "outputs": [
    {
     "name": "stdout",
     "output_type": "stream",
     "text": [
      "Enter first name:Sarat\n",
      "Enter last name:kumar\n",
      "kumar\tSarat\n"
     ]
    }
   ],
   "source": [
    "Fname=input(\"Enter first name:\")\n",
    "Lname=input(\"Enter last name:\")\n",
    "print(Lname + \"\\t\" + Fname)"
   ]
  },
  {
   "cell_type": "markdown",
   "metadata": {},
   "source": [
    "4. Write a Python program to find the volume of a sphere with diameter 12 cm.\n",
    "   Formula: V=4/3 * π * r3\n"
   ]
  },
  {
   "cell_type": "code",
   "execution_count": 22,
   "metadata": {},
   "outputs": [
    {
     "name": "stdout",
     "output_type": "stream",
     "text": [
      "904.7786842338603\n"
     ]
    }
   ],
   "source": [
    "import math\n",
    "D=12\n",
    "V=(4/3)*math.pi*pow(D/2,3)\n",
    "print(float(V))"
   ]
  },
  {
   "cell_type": "markdown",
   "metadata": {},
   "source": [
    "#Task 2\n",
    "\n",
    "1. Write a program which accepts a sequence of comma-separated numbers from console and\n",
    "   generate a list."
   ]
  },
  {
   "cell_type": "code",
   "execution_count": 24,
   "metadata": {},
   "outputs": [
    {
     "name": "stdout",
     "output_type": "stream",
     "text": [
      "Enter numbers1,2,3,4,1,34,85,467\n",
      "['1', '2', '3', '4', '1', '34', '85', '467']\n"
     ]
    }
   ],
   "source": [
    "num=input(\"Enter numbers\")\n",
    "list=[]\n",
    "list=num.split(\",\")\n",
    "print(list)"
   ]
  },
  {
   "cell_type": "markdown",
   "metadata": {},
   "source": [
    "2. Create the below pattern using nested for loop in Python.\n",
    "\n",
    "* \n",
    "* * \n",
    "* * * \n",
    "* * * * \n",
    "* * * \n",
    "* * \n",
    "*"
   ]
  },
  {
   "cell_type": "code",
   "execution_count": 32,
   "metadata": {},
   "outputs": [
    {
     "name": "stdout",
     "output_type": "stream",
     "text": [
      "\n",
      "\n",
      "*\n",
      "\n",
      "**\n",
      "\n",
      "***\n",
      "\n",
      "****\n",
      "\n",
      "*****\n",
      "\n",
      "****\n",
      "\n",
      "***\n",
      "\n",
      "**\n",
      "\n",
      "*\n",
      "\n"
     ]
    }
   ],
   "source": [
    "for i in range(0,5):\n",
    "    for j in range(0,i):\n",
    "        print(\"*\",end=\"\")\n",
    "    print(\"\\n\")\n",
    "for i in range(5,0,-1):\n",
    "    for j in range(0,i):\n",
    "        print(\"*\",end=\"\")\n",
    "    print(\"\\n\")"
   ]
  },
  {
   "cell_type": "markdown",
   "metadata": {},
   "source": [
    "3. Write a Python program to reverse a word after accepting the input from the user.\n",
    "   Sample Output:\n",
    "   Input word: AcadGild\n",
    "   Output: dilGdacA"
   ]
  },
  {
   "cell_type": "code",
   "execution_count": 34,
   "metadata": {},
   "outputs": [
    {
     "name": "stdout",
     "output_type": "stream",
     "text": [
      "Enter a word:AcadGild\n",
      "dliGdacA\n"
     ]
    }
   ],
   "source": [
    "#Sol1\n",
    "n=input(\"Enter a word:\")\n",
    "reverse=n[::-1]\n",
    "print(reverse)"
   ]
  },
  {
   "cell_type": "code",
   "execution_count": 36,
   "metadata": {},
   "outputs": [
    {
     "name": "stdout",
     "output_type": "stream",
     "text": [
      "Enter a word:AcadGild\n",
      "dliGdacA\n"
     ]
    }
   ],
   "source": [
    "#Sol2\n",
    "str=\"\"\n",
    "n=input(\"Enter a word:\")\n",
    "for i in n:\n",
    "    str=i+str\n",
    "print(str)"
   ]
  },
  {
   "cell_type": "markdown",
   "metadata": {},
   "source": [
    "4  Write a Python Program to print the given string in the format specified in the sample output.\n",
    "    \n",
    "WE, THE PEOPLE OF INDIA, having solemnly resolved to constitute India into a\n",
    "SOVEREIGN, SOCIALIST, SECULAR, DEMOCRATIC REPUBLIC and to secure to all\n",
    "its citizens\n",
    "\n",
    "Sample Output:\n",
    "WE, THE PEOPLE OF INDIA,\n",
    "       having solemnly resolved to constitute India into a SOVEREIGN, !\n",
    "            SOCIALIST, SECULAR, DEMOCRATIC REPUBLIC\n",
    "            and to secure to all its citizens"
   ]
  },
  {
   "cell_type": "code",
   "execution_count": 38,
   "metadata": {},
   "outputs": [
    {
     "name": "stdout",
     "output_type": "stream",
     "text": [
      "WE, THE PEOPLE OF INDIA,\n",
      " \t \t having solemnly resolved to constitute India into a SOVEREIGN, ! \n",
      " \t \t \t \t SOCIALIST, SECULAR, DEMOCRATIC REPUBLIC \n",
      " \t \t \t \t and to secure to all its citizens\n"
     ]
    }
   ],
   "source": [
    "print(\"WE, THE PEOPLE OF INDIA,\\n \\t \\t having solemnly resolved to constitute India into a SOVEREIGN, ! \\n \\t \\t \\t \\t SOCIALIST, SECULAR, DEMOCRATIC REPUBLIC \\n \\t \\t \\t \\t and to secure to all its citizens\")"
   ]
  },
  {
   "cell_type": "code",
   "execution_count": null,
   "metadata": {},
   "outputs": [],
   "source": []
  }
 ],
 "metadata": {
  "kernelspec": {
   "display_name": "Python 3",
   "language": "python",
   "name": "python3"
  },
  "language_info": {
   "codemirror_mode": {
    "name": "ipython",
    "version": 3
   },
   "file_extension": ".py",
   "mimetype": "text/x-python",
   "name": "python",
   "nbconvert_exporter": "python",
   "pygments_lexer": "ipython3",
   "version": "3.7.3"
  }
 },
 "nbformat": 4,
 "nbformat_minor": 2
}
